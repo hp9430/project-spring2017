{
 "cells": [
  {
   "cell_type": "markdown",
   "metadata": {},
   "source": [
    "Write Up for part-3 (Himanshu Pareek)\n",
    "                                        \n",
    "\n",
    "I tried to use a new library Seaborn to visualize a GDP dataset of the state Utah.\n",
    "\n",
    "•\tI defined a function named viz and called it from the next line.\n",
    "\n",
    "•\tI plotted a univariate graph of this dataset to summarize the distribution of its data.\n",
    "\n",
    "•\tUnivariate graphs are useful when we want to get a sense of the data present in the dataset.\n",
    "\n",
    "•\tThen I plotted a dataset containing the percentage of bachelor’s degree conferred to women in USA.\n",
    "\n",
    "•\tI categorized different percentages and plotted a combined line graph.\n",
    "\n",
    "•\tTo make it easy for the user to read from the graph I named each line, which shows the major of the bachelor’s degree.\n",
    "\n",
    "\n",
    "For the future:\n",
    "\n",
    "I want to use plotly to make this graph interactiove\n",
    "\n"
   ]
  }
 ],
 "metadata": {
  "kernelspec": {
   "display_name": "Python 3",
   "language": "python",
   "name": "python3"
  },
  "language_info": {
   "codemirror_mode": {
    "name": "ipython",
    "version": 3
   },
   "file_extension": ".py",
   "mimetype": "text/x-python",
   "name": "python",
   "nbconvert_exporter": "python",
   "pygments_lexer": "ipython3",
   "version": "3.5.2"
  }
 },
 "nbformat": 4,
 "nbformat_minor": 2
}
