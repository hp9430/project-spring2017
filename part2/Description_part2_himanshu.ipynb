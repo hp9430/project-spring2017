{
 "cells": [
  {
   "cell_type": "markdown",
   "metadata": {},
   "source": [
    "                           Write Up for part-2 (Himanshu Pareek)\n",
    "                                        \n",
    "\n",
    "First, I cleaned the data file using OpenRefine and loaded the dataset in the notebook.\n",
    "\n",
    "\n",
    "•\tI begin with exploring the dataset specially the zip codes, total amount of the grants, etc.\n",
    "\n",
    "•\tI figured the types of grants supported by IMLS, which also answered the first question of this part of the project.\n",
    "\n",
    "•\tThen I used histograms to visualize the number of times any specific grant that has been awarded.\n",
    "\n",
    "•\tI used basemap library to plot the latitude and longitude of the areas where grants were awarded during 1996 to 2013\n",
    "\n",
    "•\tI used shape files to get the map of US and then plotted the lat, lon on it.\n",
    "\n",
    "•\tHere I discovered that northeastern part of the US have been the popular spot for grants.\n",
    "\n",
    "•\tFor example states like NY,MA,PHA and VT have been awarded a lot more grants aa compared to Utah and Iowa.\n",
    "\n",
    "•\tI tried to project the lat, lon orthogonally on the world map but that turns out to be messy and it was difficult to infer anything from that graph.\n",
    "\n",
    "\n",
    "Using GDP data from FRED:\n",
    "\n",
    "•\tI used GDP dataset of different states from FRED to see if there is any relationship between the economic condition of a state and the number grants awarded to that state.\n",
    "•\tAfter plotting a histogram between the GDP of state and the number of grants awarded to that state I concluded that economic factor does affects the number of grants awarded to any state.\n",
    "•\tI inferred that state with high GDP has more grants.\n",
    "\n"
   ]
  },
  {
   "cell_type": "markdown",
   "metadata": {},
   "source": [
    "# Strengths: "
   ]
  },
  {
   "cell_type": "markdown",
   "metadata": {},
   "source": [
    "• Clear graphs representing different types of grants supported by IMLS.\n",
    "\n",
    "• Clear representation of latitude and longitude on the US map, which clearly shows the distribution of grants all over the US.\n",
    "\n",
    "• Formed relationship between GDP of state and the grants awarded to it.\n",
    "\n"
   ]
  }
 ],
 "metadata": {
  "kernelspec": {
   "display_name": "Python 3",
   "language": "python",
   "name": "python3"
  },
  "language_info": {
   "codemirror_mode": {
    "name": "ipython",
    "version": 3
   },
   "file_extension": ".py",
   "mimetype": "text/x-python",
   "name": "python",
   "nbconvert_exporter": "python",
   "pygments_lexer": "ipython3",
   "version": "3.5.2"
  }
 },
 "nbformat": 4,
 "nbformat_minor": 2
}
